{
 "cells": [
  {
   "cell_type": "code",
   "execution_count": 1,
   "metadata": {
    "collapsed": true
   },
   "outputs": [],
   "source": [
    "import traceback\n",
    "import sys\n",
    " \n",
    "from gribapi import *"
   ]
  },
  {
   "cell_type": "markdown",
   "metadata": {},
   "source": [
    "ECMWF python grib-api example\n",
    "https://software.ecmwf.int/wiki/display/GRIB/count_messages.py"
   ]
  },
  {
   "cell_type": "code",
   "execution_count": 9,
   "metadata": {
    "collapsed": false
   },
   "outputs": [
    {
     "name": "stdout",
     "output_type": "stream",
     "text": [
      "processing message number 1\n",
      "4\n",
      "Ni=2560\n",
      "Nj=3360\n",
      "latitudeOfFirstGridPointInDegrees=47.9958\n",
      "longitudeOfFirstGridPointInDegrees=118.006\n",
      "latitudeOfLastGridPointInDegrees=20.0042\n",
      "longitudeOfLastGridPointInDegrees=149.994\n",
      "jDirectionIncrementInDegrees=0.008333\n",
      "iDirectionIncrementInDegrees=0.0125\n"
     ]
    },
    {
     "name": "stderr",
     "output_type": "stream",
     "text": [
      "Traceback (most recent call last):\n",
      "  File \"<ipython-input-9-b93ee17acff3>\", line 46, in main\n",
      "    example()\n",
      "  File \"<ipython-input-9-b93ee17acff3>\", line 33, in example\n",
      "    grib_get_size(gid,'values'),\n",
      "  File \"/usr/lib/pymodules/python2.7/gribapi.py\", line 70, in modified\n",
      "    return _func_(**kw)\n",
      "  File \"/usr/lib/pymodules/python2.7/gribapi.py\", line 385, in grib_get_size\n",
      "    GRIB_CHECK(err)\n",
      "  File \"/usr/lib/pymodules/python2.7/gribapi.py\", line 70, in modified\n",
      "    return _func_(**kw)\n",
      "  File \"/usr/lib/pymodules/python2.7/gribapi.py\", line 143, in GRIB_CHECK\n",
      "    raise GribInternalError(errid)\n",
      "GribInternalError: Key/value not found\n"
     ]
    },
    {
     "data": {
      "text/plain": [
       "1"
      ]
     },
     "execution_count": 9,
     "metadata": {},
     "output_type": "execute_result"
    }
   ],
   "source": [
    "INPUT='Z__C_RJTD_20160227120000_RDR_JMAGPV_Ggis1km_Prr10lv_ANAL_grib2.bin'\n",
    "VERBOSE=1 # verbose error reporting\n",
    " \n",
    "def example():\n",
    "    f = open(INPUT)\n",
    " \n",
    "    mcount = grib_count_in_file(f)\n",
    "    gid_list = [grib_new_from_file(f) for i in range(mcount)]\n",
    " \n",
    "    f.close()\n",
    " \n",
    "    keys = [\n",
    "        'Ni',\n",
    "        'Nj',\n",
    "        'latitudeOfFirstGridPointInDegrees',\n",
    "        'longitudeOfFirstGridPointInDegrees',\n",
    "        'latitudeOfLastGridPointInDegrees',\n",
    "        'longitudeOfLastGridPointInDegrees',\n",
    "        'jDirectionIncrementInDegrees',\n",
    "        'iDirectionIncrementInDegrees',\n",
    "        ]\n",
    " \n",
    "    for i in range(mcount):\n",
    "        gid = gid_list[i]\n",
    " \n",
    "        print \"processing message number\",i+1\n",
    "        print gid\n",
    " \n",
    "        for key in keys:\n",
    "            print '%s=%g' % (key,grib_get(gid,key))\n",
    " \n",
    "        print 'There are %d, average is %g, min is %g, max is %g' % (\n",
    "                  grib_get_size(gid,'values'),\n",
    "                  grib_get(gid,'average'),\n",
    "                  grib_get(gid,'min'),\n",
    "                  grib_get(gid,'max')\n",
    "               )\n",
    " \n",
    "        print '-'*100\n",
    " \n",
    "        grib_release(gid)\n",
    " \n",
    " \n",
    "def main():\n",
    "    try:\n",
    "        example()\n",
    "    except GribInternalError,err:\n",
    "        if VERBOSE:\n",
    "            traceback.print_exc(file=sys.stderr)\n",
    "        else:\n",
    "            print >>sys.stderr,err.msg\n",
    " \n",
    "        return 1\n",
    "\n",
    "main()"
   ]
  },
  {
   "cell_type": "code",
   "execution_count": 8,
   "metadata": {
    "collapsed": false
   },
   "outputs": [
    {
     "name": "stdout",
     "output_type": "stream",
     "text": [
      "edition = 2\n",
      "centre = rjtd\n",
      "date = 20160227\n",
      "dataType = an\n",
      "gridType = regular_ll\n"
     ]
    }
   ],
   "source": [
    "def example():\n",
    "    f = open(INPUT)\n",
    " \n",
    "    while 1:\n",
    "        gid = grib_new_from_file(f)\n",
    "        if gid is None: break\n",
    " \n",
    "        iterid = grib_keys_iterator_new(gid,'ls')\n",
    " \n",
    "        # Different types of keys can be skipped\n",
    "        # grib_skip_computed(iterid)\n",
    "        # grib_skip_coded(iterid)\n",
    "        # grib_skip_edition_specific(iterid)\n",
    "        # grib_skip_duplicates(iterid)\n",
    "        # grib_skip_read_only(iterid)\n",
    "        # grib_skip_function(iterid)\n",
    " \n",
    "        while grib_keys_iterator_next(iterid):\n",
    "            keyname = grib_keys_iterator_get_name(iterid)\n",
    "            keyval = grib_get_string(iterid,keyname)\n",
    "            print \"%s = %s\" % (keyname,keyval)\n",
    " \n",
    "        grib_keys_iterator_delete(iterid)\n",
    "        grib_release(gid)\n",
    " \n",
    "    f.close()\n",
    " \n",
    "def main():\n",
    "    try:\n",
    "        example()\n",
    "    except GribInternalError,err:\n",
    "        if VERBOSE:\n",
    "            traceback.print_exc(file=sys.stderr)\n",
    "        else:\n",
    "            print >>sys.stderr,err.msg\n",
    " \n",
    "        return 1\n",
    " \n",
    "main()"
   ]
  },
  {
   "cell_type": "markdown",
   "metadata": {},
   "source": [
    "gribapiでもradarは不可"
   ]
  }
 ],
 "metadata": {
  "kernelspec": {
   "display_name": "Python 2",
   "language": "python",
   "name": "python2"
  },
  "language_info": {
   "codemirror_mode": {
    "name": "ipython",
    "version": 2
   },
   "file_extension": ".py",
   "mimetype": "text/x-python",
   "name": "python",
   "nbconvert_exporter": "python",
   "pygments_lexer": "ipython2",
   "version": "2.7.6"
  }
 },
 "nbformat": 4,
 "nbformat_minor": 0
}
