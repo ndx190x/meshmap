{
 "cells": [
  {
   "cell_type": "markdown",
   "metadata": {},
   "source": [
    "# 1kmメッシュ全国合成レーダーGPV 仕様\n",
    "\n",
    "http://www.data.jma.go.jp/add/suishin/jyouhou/pdf/162.pdf\n"
   ]
  },
  {
   "cell_type": "markdown",
   "metadata": {},
   "source": [
    "# The Python-ARM Radar Toolkit\n",
    "\n",
    "https://github.com/ARM-DOE/pyart\n",
    "\n",
    "```python\n",
    "def _decode_rle8(compr_data, key, decompr_size):\n",
    "    \"\"\" Decode 8-bit MDV run length encoding. \"\"\"\n",
    "    # Encoding is described in section 7 of:\n",
    "    # http://rap.ucar.edu/projects/IHL/RalHtml/protocols/mdv_file/\n",
    "    # This function would benefit greate by being rewritten in Cython\n",
    "    data = np.fromstring(compr_data, dtype='>B')\n",
    "    out = np.empty((decompr_size, ), dtype='uint8')\n",
    "    data_ptr = 0\n",
    "    out_ptr = 0\n",
    "    while data_ptr != len(data):\n",
    "        v = data[data_ptr]\n",
    "        if v != key:  # not encoded\n",
    "            out[out_ptr] = v\n",
    "            data_ptr += 1\n",
    "            out_ptr += 1\n",
    "        else:   # run length encoded\n",
    "            count = data[data_ptr+1]\n",
    "            value = data[data_ptr+2]\n",
    "            out[out_ptr:out_ptr+count] = value\n",
    "            data_ptr += 3\n",
    "            out_ptr += count\n",
    "    return out.tostring()\n",
    "```\n",
    "https://github.com/ARM-DOE/pyart/blob/62d9d9210d3e09a8f060b28b66da380ec09c1bc0/pyart/io/mdv_common.py#L1144\n",
    "\n",
    "\n",
    "# NumPy fromstring\n",
    "\n",
    "http://docs.scipy.org/doc/numpy-1.10.1/reference/generated/numpy.fromstring.html\n",
    "\n",
    "ndarray.reshape() で配列形状の変更"
   ]
  }
 ],
 "metadata": {
  "kernelspec": {
   "display_name": "Python 2",
   "language": "python",
   "name": "python2"
  },
  "language_info": {
   "codemirror_mode": {
    "name": "ipython",
    "version": 2
   },
   "file_extension": ".py",
   "mimetype": "text/x-python",
   "name": "python",
   "nbconvert_exporter": "python",
   "pygments_lexer": "ipython2",
   "version": "2.7.6"
  }
 },
 "nbformat": 4,
 "nbformat_minor": 0
}
