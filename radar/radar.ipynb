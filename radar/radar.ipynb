{
 "cells": [
  {
   "cell_type": "markdown",
   "metadata": {},
   "source": [
    "# 1kmメッシュ全国合成レーダーGPV 仕様\n",
    "\n",
    "http://www.data.jma.go.jp/add/suishin/jyouhou/pdf/162.pdf\n",
    "\n",
    "<img src=\"1621.png\" width=\"70%\">\n",
    "<img src=\"1622.png\" width=\"70%\">"
   ]
  },
  {
   "cell_type": "markdown",
   "metadata": {},
   "source": [
    "[GRIB2 templates for JMA Radar-AMeDAS analysis\n",
    "data](https://05377833970023498008.googlegroups.com/attach/fa546c02ad4456be/GRIB2templatesforJMARadar-AMeDASanalysisdataPDT4.50008andGDT5.200.pdf?part=0.1&vt=ANaJVrEQw1zK229zXmYHNvXgtuwxdUXwyXHfAi1tCWTZxEzmiIHM1LlYLHlF2ZvHzHB-PDrdSNT48-UFEHAbfZ286Iz5AgZFNLrwhheJoSmSSj5RKyKUN3Q)"
   ]
  },
  {
   "cell_type": "markdown",
   "metadata": {},
   "source": [
    "# 必要なデータ\n",
    "\n"
   ]
  },
  {
   "cell_type": "markdown",
   "metadata": {},
   "source": [
    "# The Python-ARM Radar Toolkit\n",
    "\n",
    "https://github.com/ARM-DOE/pyart\n",
    "\n",
    "```python\n",
    "def _decode_rle8(compr_data, key, decompr_size):\n",
    "    \"\"\" Decode 8-bit MDV run length encoding. \"\"\"\n",
    "    # Encoding is described in section 7 of:\n",
    "    # http://rap.ucar.edu/projects/IHL/RalHtml/protocols/mdv_file/\n",
    "    # This function would benefit greate by being rewritten in Cython\n",
    "    data = np.fromstring(compr_data, dtype='>B')\n",
    "    out = np.empty((decompr_size, ), dtype='uint8')\n",
    "    data_ptr = 0\n",
    "    out_ptr = 0\n",
    "    while data_ptr != len(data):\n",
    "        v = data[data_ptr]\n",
    "        if v != key:  # not encoded\n",
    "            out[out_ptr] = v\n",
    "            data_ptr += 1\n",
    "            out_ptr += 1\n",
    "        else:   # run length encoded\n",
    "            count = data[data_ptr+1]\n",
    "            value = data[data_ptr+2]\n",
    "            out[out_ptr:out_ptr+count] = value\n",
    "            data_ptr += 3\n",
    "            out_ptr += count\n",
    "    return out.tostring()\n",
    "```\n",
    "https://github.com/ARM-DOE/pyart/blob/62d9d9210d3e09a8f060b28b66da380ec09c1bc0/pyart/io/mdv_common.py#L1144\n",
    "\n",
    "\n",
    "# NumPy fromstring\n",
    "\n",
    "http://docs.scipy.org/doc/numpy-1.10.1/reference/generated/numpy.fromstring.html\n",
    "\n",
    "ndarray.reshape() で配列形状の変更"
   ]
  },
  {
   "cell_type": "code",
   "execution_count": 51,
   "metadata": {
    "collapsed": false
   },
   "outputs": [
    {
     "name": "stdout",
     "output_type": "stream",
     "text": [
      "(50008,)\n",
      "(519,)\n",
      "(112,)\n",
      "(0,)\n",
      "(10,)\n",
      "(25,)\n",
      "(35,)\n",
      "(45,)\n",
      "(55,)\n",
      "(65,)\n",
      "(75,)\n",
      "(85,)\n",
      "(95,)\n",
      "(105,)\n",
      "(115,)\n",
      "(125,)\n",
      "(135,)\n",
      "(145,)\n",
      "(155,)\n",
      "(165,)\n",
      "(175,)\n",
      "(185,)\n",
      "(195,)\n",
      "172811\n",
      "(7,)\n"
     ]
    },
    {
     "data": {
      "text/plain": [
       "array([  0, 144, 239, ..., 216, 186, 145], dtype=uint8)"
      ]
     },
     "execution_count": 51,
     "metadata": {},
     "output_type": "execute_result"
    }
   ],
   "source": [
    "%matplotlib inline \n",
    "import numpy as np\n",
    "from io import BytesIO\n",
    "import struct\n",
    "import datetime\n",
    "\n",
    "import matplotlib.pyplot as plt\n",
    "\n",
    "file = 'Z__C_RJTD_20160227120000_RDR_JMAGPV_Ggis1km_Prr10lv_ANAL_grib2.bin'\n",
    "\n",
    "fileptr = open(file, 'rb')\n",
    "\n",
    "fileptr.seek(16 + 21 + 72 + 7)\n",
    "print struct.unpack('>H', fileptr.read(2)) # product template number\n",
    "\n",
    "fileptr.seek(16 + 21 + 72 + 82)\n",
    "print struct.unpack('>I', fileptr.read(4))\n",
    "fileptr.seek(16 + 21 + 72 +  82 + 12)\n",
    "print struct.unpack('>H', fileptr.read(2))\n",
    "\n",
    "fileptr.seek(16 + 21 + 72 +  82 + 17)\n",
    "\n",
    "level_value = []\n",
    "for nn in range(1, 251):\n",
    "    level_value[nn] = struct.unpack('>H', fileptr.read(2))[0] \n",
    "    \n",
    "fileptr.seek(16 + 21 + 72 +  82 + 519 + 6)\n",
    "sec7_length = struct.unpack('>I', fileptr.read(4))[0]\n",
    "print sec7_length\n",
    "print struct.unpack('>B', fileptr.read(1))\n",
    "data = fileptr.read(sec7_length - 5)\n",
    "np.fromstring(data, dtype='>B')\n",
    "\n"
   ]
  },
  {
   "cell_type": "code",
   "execution_count": null,
   "metadata": {
    "collapsed": true
   },
   "outputs": [],
   "source": []
  },
  {
   "cell_type": "code",
   "execution_count": null,
   "metadata": {
    "collapsed": true
   },
   "outputs": [],
   "source": []
  },
  {
   "cell_type": "code",
   "execution_count": null,
   "metadata": {
    "collapsed": true
   },
   "outputs": [],
   "source": []
  },
  {
   "cell_type": "code",
   "execution_count": null,
   "metadata": {
    "collapsed": true
   },
   "outputs": [],
   "source": []
  }
 ],
 "metadata": {
  "kernelspec": {
   "display_name": "Python 2",
   "language": "python",
   "name": "python2"
  },
  "language_info": {
   "codemirror_mode": {
    "name": "ipython",
    "version": 2
   },
   "file_extension": ".py",
   "mimetype": "text/x-python",
   "name": "python",
   "nbconvert_exporter": "python",
   "pygments_lexer": "ipython2",
   "version": "2.7.6"
  }
 },
 "nbformat": 4,
 "nbformat_minor": 0
}
