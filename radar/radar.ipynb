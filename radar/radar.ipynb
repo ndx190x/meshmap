{
 "cells": [
  {
   "cell_type": "markdown",
   "metadata": {},
   "source": [
    "# JMA Radar-AMeDAS analysis "
   ]
  },
  {
   "cell_type": "markdown",
   "metadata": {},
   "source": [
    "# 仕様\n",
    "\n",
    "http://www.data.jma.go.jp/add/suishin/jyouhou/pdf/162.pdf\n",
    "\n",
    "<img src=\"1621.png\" width=\"70%\">\n",
    "<img src=\"1622.png\" width=\"70%\">"
   ]
  },
  {
   "cell_type": "markdown",
   "metadata": {},
   "source": [
    "[GRIB2 templates for JMA Radar-AMeDAS analysis\n",
    "data](https://05377833970023498008.googlegroups.com/attach/fa546c02ad4456be/GRIB2templatesforJMARadar-AMeDASanalysisdataPDT4.50008andGDT5.200.pdf?part=0.1&vt=ANaJVrEQw1zK229zXmYHNvXgtuwxdUXwyXHfAi1tCWTZxEzmiIHM1LlYLHlF2ZvHzHB-PDrdSNT48-UFEHAbfZ286Iz5AgZFNLrwhheJoSmSSj5RKyKUN3Q)"
   ]
  },
  {
   "cell_type": "markdown",
   "metadata": {},
   "source": [
    "# ref. The Python-ARM Radar Toolkit\n",
    "\n",
    "https://github.com/ARM-DOE/pyart\n",
    "\n",
    "```python\n",
    "def _decode_rle8(compr_data, key, decompr_size):\n",
    "    \"\"\" Decode 8-bit MDV run length encoding. \"\"\"\n",
    "    # Encoding is described in section 7 of:\n",
    "    # http://rap.ucar.edu/projects/IHL/RalHtml/protocols/mdv_file/\n",
    "    # This function would benefit greate by being rewritten in Cython\n",
    "    data = np.fromstring(compr_data, dtype='>B')\n",
    "    out = np.empty((decompr_size, ), dtype='uint8')\n",
    "    data_ptr = 0\n",
    "    out_ptr = 0\n",
    "    while data_ptr != len(data):\n",
    "        v = data[data_ptr]\n",
    "        if v != key:  # not encoded\n",
    "            out[out_ptr] = v\n",
    "            data_ptr += 1\n",
    "            out_ptr += 1\n",
    "        else:   # run length encoded\n",
    "            count = data[data_ptr+1]\n",
    "            value = data[data_ptr+2]\n",
    "            out[out_ptr:out_ptr+count] = value\n",
    "            data_ptr += 3\n",
    "            out_ptr += count\n",
    "    return out.tostring()\n",
    "```\n",
    "https://github.com/ARM-DOE/pyart/blob/62d9d9210d3e09a8f060b28b66da380ec09c1bc0/pyart/io/mdv_common.py#L1144\n",
    "\n",
    "\n",
    "## NumPy fromstring\n",
    "\n",
    "http://docs.scipy.org/doc/numpy-1.10.1/reference/generated/numpy.fromstring.html\n",
    "\n",
    "ndarray.reshape() で配列形状の変更"
   ]
  },
  {
   "cell_type": "markdown",
   "metadata": {},
   "source": [
    "# Get data file"
   ]
  },
  {
   "cell_type": "code",
   "execution_count": 68,
   "metadata": {
    "collapsed": false
   },
   "outputs": [
    {
     "name": "stdout",
     "output_type": "stream",
     "text": [
      "--2016-03-06 19:42:24--  http://database.rish.kyoto-u.ac.jp/arch/jmadata/data/jma-radar/synthetic/original/2016/03/06/Z__C_RJTD_20160306190000_RDR_JMAGPV__grib2.tar\n",
      "Resolving database.rish.kyoto-u.ac.jp (database.rish.kyoto-u.ac.jp)... 133.3.8.137\n",
      "Connecting to database.rish.kyoto-u.ac.jp (database.rish.kyoto-u.ac.jp)|133.3.8.137|:80... connected.\n",
      "HTTP request sent, awaiting response... 200 OK\n",
      "Length: 286720 (280K) [application/x-tar]\n",
      "Saving to: ‘Z__C_RJTD_20160306190000_RDR_JMAGPV__grib2.tar.1’\n",
      "\n",
      "100%[======================================>] 286,720     32.9KB/s   in 8.5s   \n",
      "\n",
      "2016-03-06 19:42:38 (32.9 KB/s) - ‘Z__C_RJTD_20160306190000_RDR_JMAGPV__grib2.tar.1’ saved [286720/286720]\n",
      "\n"
     ]
    }
   ],
   "source": [
    "! wget http://database.rish.kyoto-u.ac.jp/arch/jmadata/data/jma-radar/synthetic/original/2016/03/06/Z__C_RJTD_20160306190000_RDR_JMAGPV__grib2.tar"
   ]
  },
  {
   "cell_type": "code",
   "execution_count": 69,
   "metadata": {
    "collapsed": true
   },
   "outputs": [],
   "source": [
    "! tar xf Z__C_RJTD_20160306190000_RDR_JMAGPV__grib2.tar"
   ]
  },
  {
   "cell_type": "markdown",
   "metadata": {},
   "source": [
    "# Parse binary file"
   ]
  },
  {
   "cell_type": "code",
   "execution_count": 71,
   "metadata": {
    "collapsed": false
   },
   "outputs": [
    {
     "name": "stdout",
     "output_type": "stream",
     "text": [
      "(50008,)\n",
      "(519,)\n",
      "256350\n",
      "(7,)\n"
     ]
    }
   ],
   "source": [
    "%matplotlib inline \n",
    "import numpy as np\n",
    "from io import BytesIO\n",
    "import struct\n",
    "import datetime\n",
    "\n",
    "import matplotlib.pyplot as plt\n",
    "\n",
    "file = 'Z__C_RJTD_20160306190000_RDR_JMAGPV_Ggis1km_Prr10lv_ANAL_grib2.bin'\n",
    "\n",
    "fileptr = open(file, 'rb')\n",
    "\n",
    "fileptr.seek(16 + 21 + 72 + 7)\n",
    "print struct.unpack('>H', fileptr.read(2)) # product template number\n",
    "\n",
    "fileptr.seek(16 + 21 + 72 + 82)\n",
    "print struct.unpack('>I', fileptr.read(4))\n",
    "fileptr.seek(16 + 21 + 72 +  82 + 12)\n",
    "maxv = struct.unpack('>H', fileptr.read(2))[0]\n",
    "\n",
    "fileptr.seek(16 + 21 + 72 +  82 + 17)\n",
    "\n",
    "level_values = [-0.] #no data\n",
    "for nn in range(0, 251):\n",
    "    level_values.append(struct.unpack('>H', fileptr.read(2))[0] / 100.)\n",
    "    \n",
    "fileptr.seek(16 + 21 + 72 +  82 + 519 + 6)\n",
    "sec7_length = struct.unpack('>I', fileptr.read(4))[0]\n",
    "print sec7_length\n",
    "print struct.unpack('>B', fileptr.read(1))\n",
    "data = fileptr.read(sec7_length - 5)\n",
    "compr_data = np.fromstring(data, dtype='>B')"
   ]
  },
  {
   "cell_type": "code",
   "execution_count": 117,
   "metadata": {
    "collapsed": false
   },
   "outputs": [],
   "source": [
    "def parse_pdt_4_50008(fileptr):\n",
    "    format = '>5B H 2B I 2B I 2B I H 6B H 3B H B H 8s 8s 8s'\n",
    "    d = struct.unpack(\n",
    "        format,\n",
    "        fileptr.read(struct.calcsize(format)))\n",
    "    return {\n",
    "        'parameter_category': d[0],\n",
    "        'parameter_number': d[1],\n",
    "        'year': d[15],\n",
    "        'month': d[16],\n",
    "        'day': d[17],\n",
    "        'hour': d[18],\n",
    "        'minute': d[19],\n",
    "        'second': d[20]\n",
    "    }"
   ]
  },
  {
   "cell_type": "code",
   "execution_count": 118,
   "metadata": {
    "collapsed": false
   },
   "outputs": [
    {
     "name": "stdout",
     "output_type": "stream",
     "text": [
      "(50008,)\n"
     ]
    },
    {
     "data": {
      "text/plain": [
       "{'day': 6,\n",
       " 'hour': 19,\n",
       " 'minute': 0,\n",
       " 'month': 3,\n",
       " 'parameter_category': 1,\n",
       " 'parameter_number': 201,\n",
       " 'second': 0,\n",
       " 'year': 2016}"
      ]
     },
     "execution_count": 118,
     "metadata": {},
     "output_type": "execute_result"
    }
   ],
   "source": [
    "fileptr.seek(16 + 21 + 72 + 7)\n",
    "print struct.unpack('>H', fileptr.read(2))\n",
    "parse_pdt_4_50008(fileptr)"
   ]
  },
  {
   "cell_type": "code",
   "execution_count": 132,
   "metadata": {
    "collapsed": false
   },
   "outputs": [],
   "source": [
    "def parse_drt_5_200(fileptr):\n",
    "    format = '>B 2H B 251H'\n",
    "    d = struct.unpack(\n",
    "        format,\n",
    "        fileptr.read(struct.calcsize(format)))\n",
    "    drt = {\n",
    "        'nbit': d[0],\n",
    "        'max_value': d[1],\n",
    "        'max_value_level': d[2],\n",
    "        'decimal_scale_factor': d[3],\n",
    "        'level_values': [-0.] # no data\n",
    "    }\n",
    "    scale_factor = pow(10., d[3])\n",
    "    for v in d[4:]:\n",
    "        drt['level_values'].append(v / scale_factor)\n",
    "    return drt"
   ]
  },
  {
   "cell_type": "code",
   "execution_count": 133,
   "metadata": {
    "collapsed": false
   },
   "outputs": [
    {
     "name": "stdout",
     "output_type": "stream",
     "text": [
      "(200,)\n"
     ]
    },
    {
     "data": {
      "text/plain": [
       "{'decimal_scale_factor': 2,\n",
       " 'level_values': [-0.0,\n",
       "  0.0,\n",
       "  0.1,\n",
       "  0.25,\n",
       "  0.35,\n",
       "  0.45,\n",
       "  0.55,\n",
       "  0.65,\n",
       "  0.75,\n",
       "  0.85,\n",
       "  0.95,\n",
       "  1.05,\n",
       "  1.15,\n",
       "  1.25,\n",
       "  1.35,\n",
       "  1.45,\n",
       "  1.55,\n",
       "  1.65,\n",
       "  1.75,\n",
       "  1.85,\n",
       "  1.95,\n",
       "  2.13,\n",
       "  2.38,\n",
       "  2.63,\n",
       "  2.88,\n",
       "  3.13,\n",
       "  3.38,\n",
       "  3.63,\n",
       "  3.88,\n",
       "  4.13,\n",
       "  4.38,\n",
       "  4.63,\n",
       "  4.88,\n",
       "  5.25,\n",
       "  5.75,\n",
       "  6.25,\n",
       "  6.75,\n",
       "  7.25,\n",
       "  7.75,\n",
       "  8.25,\n",
       "  8.75,\n",
       "  9.25,\n",
       "  9.75,\n",
       "  10.5,\n",
       "  11.5,\n",
       "  12.5,\n",
       "  13.5,\n",
       "  14.5,\n",
       "  15.5,\n",
       "  16.5,\n",
       "  17.5,\n",
       "  18.5,\n",
       "  19.5,\n",
       "  20.5,\n",
       "  21.5,\n",
       "  22.5,\n",
       "  23.5,\n",
       "  24.5,\n",
       "  25.5,\n",
       "  26.5,\n",
       "  27.5,\n",
       "  28.5,\n",
       "  29.5,\n",
       "  30.5,\n",
       "  31.5,\n",
       "  32.5,\n",
       "  33.5,\n",
       "  34.5,\n",
       "  35.5,\n",
       "  36.5,\n",
       "  37.5,\n",
       "  38.5,\n",
       "  39.5,\n",
       "  40.5,\n",
       "  41.5,\n",
       "  42.5,\n",
       "  43.5,\n",
       "  44.5,\n",
       "  45.5,\n",
       "  46.5,\n",
       "  47.5,\n",
       "  48.5,\n",
       "  49.5,\n",
       "  50.5,\n",
       "  51.5,\n",
       "  52.5,\n",
       "  53.5,\n",
       "  54.5,\n",
       "  55.5,\n",
       "  56.5,\n",
       "  57.5,\n",
       "  58.5,\n",
       "  59.5,\n",
       "  60.5,\n",
       "  61.5,\n",
       "  62.5,\n",
       "  63.5,\n",
       "  64.5,\n",
       "  65.5,\n",
       "  66.5,\n",
       "  67.5,\n",
       "  68.5,\n",
       "  69.5,\n",
       "  70.5,\n",
       "  71.5,\n",
       "  72.5,\n",
       "  73.5,\n",
       "  74.5,\n",
       "  75.5,\n",
       "  76.5,\n",
       "  77.5,\n",
       "  78.5,\n",
       "  79.5,\n",
       "  80.5,\n",
       "  81.5,\n",
       "  82.5,\n",
       "  83.5,\n",
       "  84.5,\n",
       "  85.5,\n",
       "  86.5,\n",
       "  87.5,\n",
       "  88.5,\n",
       "  89.5,\n",
       "  90.5,\n",
       "  91.5,\n",
       "  92.5,\n",
       "  93.5,\n",
       "  94.5,\n",
       "  95.5,\n",
       "  96.5,\n",
       "  97.5,\n",
       "  98.5,\n",
       "  99.5,\n",
       "  100.5,\n",
       "  101.5,\n",
       "  102.5,\n",
       "  103.5,\n",
       "  104.5,\n",
       "  105.5,\n",
       "  106.5,\n",
       "  107.5,\n",
       "  108.5,\n",
       "  109.5,\n",
       "  110.5,\n",
       "  111.5,\n",
       "  112.5,\n",
       "  113.5,\n",
       "  114.5,\n",
       "  115.5,\n",
       "  116.5,\n",
       "  117.5,\n",
       "  118.5,\n",
       "  119.5,\n",
       "  120.5,\n",
       "  121.5,\n",
       "  122.5,\n",
       "  123.5,\n",
       "  124.5,\n",
       "  125.5,\n",
       "  126.5,\n",
       "  127.5,\n",
       "  128.5,\n",
       "  129.5,\n",
       "  130.5,\n",
       "  131.5,\n",
       "  132.5,\n",
       "  133.5,\n",
       "  134.5,\n",
       "  135.5,\n",
       "  136.5,\n",
       "  137.5,\n",
       "  138.5,\n",
       "  139.5,\n",
       "  140.5,\n",
       "  141.5,\n",
       "  142.5,\n",
       "  143.5,\n",
       "  144.5,\n",
       "  145.5,\n",
       "  146.5,\n",
       "  147.5,\n",
       "  148.5,\n",
       "  149.5,\n",
       "  150.5,\n",
       "  151.5,\n",
       "  152.5,\n",
       "  153.5,\n",
       "  154.5,\n",
       "  155.5,\n",
       "  156.5,\n",
       "  157.5,\n",
       "  158.5,\n",
       "  159.5,\n",
       "  160.5,\n",
       "  161.5,\n",
       "  162.5,\n",
       "  163.5,\n",
       "  164.5,\n",
       "  165.5,\n",
       "  166.5,\n",
       "  167.5,\n",
       "  168.5,\n",
       "  169.5,\n",
       "  170.5,\n",
       "  171.5,\n",
       "  172.5,\n",
       "  173.5,\n",
       "  174.5,\n",
       "  175.5,\n",
       "  176.5,\n",
       "  177.5,\n",
       "  178.5,\n",
       "  179.5,\n",
       "  181.0,\n",
       "  183.0,\n",
       "  185.0,\n",
       "  187.0,\n",
       "  189.0,\n",
       "  191.0,\n",
       "  193.0,\n",
       "  195.0,\n",
       "  197.0,\n",
       "  199.0,\n",
       "  201.0,\n",
       "  203.0,\n",
       "  205.0,\n",
       "  207.0,\n",
       "  209.0,\n",
       "  211.0,\n",
       "  213.0,\n",
       "  215.0,\n",
       "  217.0,\n",
       "  219.0,\n",
       "  221.0,\n",
       "  223.0,\n",
       "  225.0,\n",
       "  227.0,\n",
       "  229.0,\n",
       "  231.0,\n",
       "  233.0,\n",
       "  235.0,\n",
       "  237.0,\n",
       "  239.0,\n",
       "  241.0,\n",
       "  243.0,\n",
       "  245.0,\n",
       "  247.0,\n",
       "  249.0,\n",
       "  251.0,\n",
       "  253.0,\n",
       "  255.0,\n",
       "  260.0],\n",
       " 'max_value': 136,\n",
       " 'max_value_level': 251,\n",
       " 'nbit': 8}"
      ]
     },
     "execution_count": 133,
     "metadata": {},
     "output_type": "execute_result"
    }
   ],
   "source": [
    "fileptr.seek(16 + 21 + 72 +  82 + 9)\n",
    "print struct.unpack('>H', fileptr.read(2)) \n",
    "parse_drt_5_200(fileptr)"
   ]
  },
  {
   "cell_type": "markdown",
   "metadata": {},
   "source": [
    "<img src=\"1623.png\" width=\"70%\">"
   ]
  },
  {
   "cell_type": "code",
   "execution_count": 44,
   "metadata": {
    "collapsed": false
   },
   "outputs": [],
   "source": [
    "def decode_rle_levelvalues(compr_data, ndata, nbit, maxv, level_values):\n",
    "    out = np.empty(ndata, dtype='float16')\n",
    "    lngu = pow(2, nbit) - 1 - maxv\n",
    "    pv = -1\n",
    "    k = 0\n",
    "    count = 1\n",
    "    n = 0\n",
    "    for v in np.nditer(compr_data):\n",
    "        if v <= maxv:\n",
    "            if pv >= 0:\n",
    "                out[k: k + count] = pv\n",
    "                k += count\n",
    "            count = 1\n",
    "            n = 0\n",
    "            pv = level_values[v]\n",
    "        else:\n",
    "            count += pow(lngu, n) * (v - maxv - 1)\n",
    "            n += 1\n",
    "    out[k: k + count] = pv\n",
    "    return out"
   ]
  },
  {
   "cell_type": "code",
   "execution_count": 72,
   "metadata": {
    "collapsed": false
   },
   "outputs": [
    {
     "data": {
      "text/plain": [
       "array([[-0., -0., -0., ..., -0., -0., -0.],\n",
       "       [-0., -0., -0., ..., -0., -0., -0.],\n",
       "       [-0., -0., -0., ..., -0., -0., -0.],\n",
       "       ..., \n",
       "       [-0., -0., -0., ..., -0., -0., -0.],\n",
       "       [-0., -0., -0., ..., -0., -0., -0.],\n",
       "       [-0., -0., -0., ..., -0., -0., -0.]], dtype=float16)"
      ]
     },
     "execution_count": 72,
     "metadata": {},
     "output_type": "execute_result"
    }
   ],
   "source": [
    "data2 = decode_rle_levelvalues(compr_data, 2560*3360, 8, maxv, level_values)\n",
    "data = np.reshape(data2, (3360, 2560))\n",
    "data"
   ]
  },
  {
   "cell_type": "code",
   "execution_count": 62,
   "metadata": {
    "collapsed": false
   },
   "outputs": [
    {
     "data": {
      "text/plain": [
       "8601600"
      ]
     },
     "execution_count": 62,
     "metadata": {},
     "output_type": "execute_result"
    }
   ],
   "source": [
    "data.size"
   ]
  },
  {
   "cell_type": "code",
   "execution_count": 95,
   "metadata": {
    "collapsed": false
   },
   "outputs": [
    {
     "data": {
      "image/png": "[encoded data removed]",
      "text/plain": [
       "<matplotlib.figure.Figure at 0x7f5db3e30e10>"
      ]
     },
     "metadata": {},
     "output_type": "display_data"
    }
   ],
   "source": [
    "%matplotlib inline \n",
    "from mpl_toolkits.basemap import Basemap, cm\n",
    "import matplotlib.pyplot as plt\n",
    "\n",
    "fig = plt.figure(figsize=(10,10))\n",
    "m = Basemap(projection='merc',llcrnrlat=20.,urcrnrlat=48., llcrnrlon=118.,urcrnrlon=150.,resolution='l')\n",
    "m.drawcoastlines(linewidth=0.5)\n",
    "m.drawparallels(np.arange(0,60,5), linewidth=0.5)\n",
    "m.drawmeridians(np.arange(100,170,5), linewidth=0.5)\n",
    "\n",
    "lons, lats = np.meshgrid(np.linspace(118, 150, 2560), np.linspace(48,20,3360))\n",
    "x, y = m(lons, lats) \n",
    "clevs = [0,1,2.5,5,7.5,10,15,20,30,40,50,70,100,150,200,250,300,400,500,600,750]\n",
    "cs = m.contourf(x,y,data,clevs,cmap=cm.s3pcpn)\n",
    "cbar = m.colorbar(cs,location='bottom',pad=\"5%\")\n",
    "cbar.set_label('mm')\n",
    "\n",
    "plt.show()"
   ]
  },
  {
   "cell_type": "markdown",
   "metadata": {},
   "source": [
    "<img src=\"201603070400-00.png\">"
   ]
  }
 ],
 "metadata": {
  "kernelspec": {
   "display_name": "Python 2",
   "language": "python",
   "name": "python2"
  },
  "language_info": {
   "codemirror_mode": {
    "name": "ipython",
    "version": 2
   },
   "file_extension": ".py",
   "mimetype": "text/x-python",
   "name": "python",
   "nbconvert_exporter": "python",
   "pygments_lexer": "ipython2",
   "version": "2.7.6"
  }
 },
 "nbformat": 4,
 "nbformat_minor": 0
}
