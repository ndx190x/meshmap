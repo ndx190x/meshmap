{
 "cells": [
  {
   "cell_type": "code",
   "execution_count": 1,
   "metadata": {
    "collapsed": false
   },
   "outputs": [],
   "source": [
    "%matplotlib inline \n",
    "from mpl_toolkits.basemap import Basemap \n",
    "import numpy as np\n",
    "import matplotlib.pyplot as plt\n",
    "import pygrib\n",
    "import pandas as pd\n",
    "pd.set_option('display.max_rows', 500)"
   ]
  },
  {
   "cell_type": "code",
   "execution_count": 4,
   "metadata": {
    "collapsed": true
   },
   "outputs": [],
   "source": [
    "grbs = pygrib.open('Z__C_RJTD_20160227120000_RDR_JMAGPV_Ggis1km_Prr10lv_ANAL_grib2.bin')"
   ]
  },
  {
   "cell_type": "code",
   "execution_count": 5,
   "metadata": {
    "collapsed": true
   },
   "outputs": [],
   "source": [
    "def pd_grib_inventory(grbs):\n",
    "    grbs.seek(0)\n",
    "    df = pd.DataFrame(columns=['name', 'units' , 'level', 'valid', 'data'])\n",
    "    for grb in grbs:\n",
    "        df.loc[len(df) + 1] = [\n",
    "            grb.name,\n",
    "            grb.units,\n",
    "            grb.typeOfLevel + \": \" + str(grb.level),\n",
    "            grb.validityDate * 10000 + grb.validityTime,\n",
    "            grb.dataDate * 10000 + grb.dataTime\n",
    "        ]\n",
    "    return df"
   ]
  },
  {
   "cell_type": "code",
   "execution_count": 8,
   "metadata": {
    "collapsed": false
   },
   "outputs": [
    {
     "ename": "ValueError",
     "evalue": "unknown shape of the earth flag",
     "output_type": "error",
     "traceback": [
      "\u001b[1;31m---------------------------------------------------------------------------\u001b[0m",
      "\u001b[1;31mValueError\u001b[0m                                Traceback (most recent call last)",
      "\u001b[1;32m<ipython-input-8-00fcf212398f>\u001b[0m in \u001b[0;36m<module>\u001b[1;34m()\u001b[0m\n\u001b[1;32m----> 1\u001b[1;33m \u001b[0mpd_grib_inventory\u001b[0m\u001b[1;33m(\u001b[0m\u001b[0mgrbs\u001b[0m\u001b[1;33m)\u001b[0m\u001b[1;33m\u001b[0m\u001b[0m\n\u001b[0m",
      "\u001b[1;32m<ipython-input-5-e4d3d309a726>\u001b[0m in \u001b[0;36mpd_grib_inventory\u001b[1;34m(grbs)\u001b[0m\n\u001b[0;32m      2\u001b[0m     \u001b[0mgrbs\u001b[0m\u001b[1;33m.\u001b[0m\u001b[0mseek\u001b[0m\u001b[1;33m(\u001b[0m\u001b[1;36m0\u001b[0m\u001b[1;33m)\u001b[0m\u001b[1;33m\u001b[0m\u001b[0m\n\u001b[0;32m      3\u001b[0m     \u001b[0mdf\u001b[0m \u001b[1;33m=\u001b[0m \u001b[0mpd\u001b[0m\u001b[1;33m.\u001b[0m\u001b[0mDataFrame\u001b[0m\u001b[1;33m(\u001b[0m\u001b[0mcolumns\u001b[0m\u001b[1;33m=\u001b[0m\u001b[1;33m[\u001b[0m\u001b[1;34m'name'\u001b[0m\u001b[1;33m,\u001b[0m \u001b[1;34m'units'\u001b[0m \u001b[1;33m,\u001b[0m \u001b[1;34m'level'\u001b[0m\u001b[1;33m,\u001b[0m \u001b[1;34m'valid'\u001b[0m\u001b[1;33m,\u001b[0m \u001b[1;34m'data'\u001b[0m\u001b[1;33m]\u001b[0m\u001b[1;33m)\u001b[0m\u001b[1;33m\u001b[0m\u001b[0m\n\u001b[1;32m----> 4\u001b[1;33m     \u001b[1;32mfor\u001b[0m \u001b[0mgrb\u001b[0m \u001b[1;32min\u001b[0m \u001b[0mgrbs\u001b[0m\u001b[1;33m:\u001b[0m\u001b[1;33m\u001b[0m\u001b[0m\n\u001b[0m\u001b[0;32m      5\u001b[0m         df.loc[len(df) + 1] = [\n\u001b[0;32m      6\u001b[0m             \u001b[0mgrb\u001b[0m\u001b[1;33m.\u001b[0m\u001b[0mname\u001b[0m\u001b[1;33m,\u001b[0m\u001b[1;33m\u001b[0m\u001b[0m\n",
      "\u001b[1;32mpygrib.pyx\u001b[0m in \u001b[0;36mpygrib.open.__next__ (pygrib.c:3296)\u001b[1;34m()\u001b[0m\n",
      "\u001b[1;32mpygrib.pyx\u001b[0m in \u001b[0;36mpygrib._create_gribmessage (pygrib.c:6586)\u001b[1;34m()\u001b[0m\n",
      "\u001b[1;32mpygrib.pyx\u001b[0m in \u001b[0;36mpygrib.gribmessage._set_projparams (pygrib.c:16575)\u001b[1;34m()\u001b[0m\n",
      "\u001b[1;31mValueError\u001b[0m: unknown shape of the earth flag"
     ]
    }
   ],
   "source": [
    "pd_grib_inventory(grbs)"
   ]
  },
  {
   "cell_type": "markdown",
   "metadata": {},
   "source": [
    "pygribではradar不可"
   ]
  }
 ],
 "metadata": {
  "kernelspec": {
   "display_name": "Python 2",
   "language": "python",
   "name": "python2"
  },
  "language_info": {
   "codemirror_mode": {
    "name": "ipython",
    "version": 2
   },
   "file_extension": ".py",
   "mimetype": "text/x-python",
   "name": "python",
   "nbconvert_exporter": "python",
   "pygments_lexer": "ipython2",
   "version": "2.7.6"
  }
 },
 "nbformat": 4,
 "nbformat_minor": 0
}
